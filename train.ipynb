{
 "cells": [
  {
   "cell_type": "code",
   "execution_count": 1,
   "metadata": {
    "colab": {
     "base_uri": "https://localhost:8080/"
    },
    "executionInfo": {
     "elapsed": 2960,
     "status": "ok",
     "timestamp": 1723732101397,
     "user": {
      "displayName": "leeht 0113",
      "userId": "08596195091106375595"
     },
     "user_tz": -540
    },
    "id": "kLXJyfmBahhy",
    "outputId": "ea0507a3-eebd-413c-a776-bd052d941f75"
   },
   "outputs": [
    {
     "name": "stdout",
     "output_type": "stream",
     "text": [
      "Drive already mounted at /content/drive; to attempt to forcibly remount, call drive.mount(\"/content/drive\", force_remount=True).\n"
     ]
    }
   ],
   "source": [
    "# from google.colab import drive\n",
    "# drive.mount('/content/drive')"
   ]
  },
  {
   "cell_type": "code",
   "execution_count": 2,
   "metadata": {
    "executionInfo": {
     "elapsed": 450,
     "status": "ok",
     "timestamp": 1723732103098,
     "user": {
      "displayName": "leeht 0113",
      "userId": "08596195091106375595"
     },
     "user_tz": -540
    },
    "id": "Dac9nhgNaj_J"
   },
   "outputs": [],
   "source": [
    "# import os\n",
    "# os.chdir('/content/drive/MyDrive/transformer')"
   ]
  },
  {
   "cell_type": "code",
   "execution_count": 3,
   "metadata": {
    "colab": {
     "base_uri": "https://localhost:8080/"
    },
    "executionInfo": {
     "elapsed": 2829,
     "status": "ok",
     "timestamp": 1723732107961,
     "user": {
      "displayName": "leeht 0113",
      "userId": "08596195091106375595"
     },
     "user_tz": -540
    },
    "id": "-Kpnb_YZalic",
    "outputId": "36784068-0c3a-41b6-c15d-4df4ce9cb743"
   },
   "outputs": [
    {
     "name": "stdout",
     "output_type": "stream",
     "text": [
      "Requirement already satisfied: sacremoses in /usr/local/lib/python3.10/dist-packages (0.1.1)\n",
      "Requirement already satisfied: regex in /usr/local/lib/python3.10/dist-packages (from sacremoses) (2024.5.15)\n",
      "Requirement already satisfied: click in /usr/local/lib/python3.10/dist-packages (from sacremoses) (8.1.7)\n",
      "Requirement already satisfied: joblib in /usr/local/lib/python3.10/dist-packages (from sacremoses) (1.4.2)\n",
      "Requirement already satisfied: tqdm in /usr/local/lib/python3.10/dist-packages (from sacremoses) (4.66.5)\n"
     ]
    }
   ],
   "source": [
    "# !pip install sacremoses"
   ]
  },
  {
   "cell_type": "code",
   "execution_count": 1,
   "metadata": {
    "colab": {
     "base_uri": "https://localhost:8080/",
     "height": 617,
     "referenced_widgets": [
      "4d11be8a335c4285bd0ce60ffaf9579f",
      "eb31da2bcdc94808813801f2d5cd0c6a",
      "6cf2729039464d51bd844d5573df712c",
      "099174e8ce86427f853804eba9ee8205",
      "ee1f94f4a1484ee8909910e33a00293d",
      "e5ca293724f54a0581e0a5d49dcfabee",
      "84232f1d7ef940daacb01db9dd898732",
      "420d459a9b5441c6b238780d99355f79",
      "c4a9c1ead8104ba0ac0d18d6be0a2900",
      "b2dc21ead6e548d391a2a85652779726",
      "14c7559fdc9d46e6bde2851dd4ff3e46",
      "084f65a203c84460b332af2da124e41e",
      "26bcdafbb2aa4ccc93c634b27923a1aa",
      "1d9e7dfd9bf440a5aa7b9f9cfa23cd18",
      "6885a29ff3f749e1bc9108a1bd1f3b21",
      "dab5d6f216044db6ba3aee23161db0a0",
      "4510ade00f214f2d8ee5353d8a15c9c2",
      "241858a82e1f4373bc72539708e1a2bd",
      "3a927329cd7142018418edc921d0f43c",
      "ef2b1ed910cf4758abb45bdd99942de3",
      "113f4675032f44869adcdc3cc925ce1a",
      "b386ab06e67141cbbe4fceafc7f4a0c6"
     ]
    },
    "executionInfo": {
     "elapsed": 65800,
     "status": "ok",
     "timestamp": 1723732176265,
     "user": {
      "displayName": "leeht 0113",
      "userId": "08596195091106375595"
     },
     "user_tz": -540
    },
    "id": "0cMz3c0tagVL",
    "outputId": "59c039df-b9c3-4f1c-bfc8-896e6190700f"
   },
   "outputs": [
    {
     "name": "stderr",
     "output_type": "stream",
     "text": [
      "C:\\Users\\user\\anaconda3\\Lib\\site-packages\\transformers\\tokenization_utils_base.py:1601: FutureWarning: `clean_up_tokenization_spaces` was not set. It will be set to `True` by default. This behavior will be depracted in transformers v4.45, and will be then set to `False` by default. For more details check this issue: https://github.com/huggingface/transformers/issues/31884\n",
      "  warnings.warn(\n"
     ]
    },
    {
     "name": "stdout",
     "output_type": "stream",
     "text": [
      "데이터 로드 중...\n",
      "데이터 로드 완료\n"
     ]
    },
    {
     "data": {
      "application/vnd.jupyter.widget-view+json": {
       "model_id": "0d7495d716f84dc088b1912f95e23c11",
       "version_major": 2,
       "version_minor": 0
      },
      "text/plain": [
       "Epoch:   0%|          | 0/10 [00:00<?, ?it/s]"
      ]
     },
     "metadata": {},
     "output_type": "display_data"
    },
    {
     "name": "stdout",
     "output_type": "stream",
     "text": [
      "\n",
      "Epoch 1 시작:  2024년 08월 16일 18시 57분 14초\n"
     ]
    },
    {
     "data": {
      "application/vnd.jupyter.widget-view+json": {
       "model_id": "ee496f63bcca45a6a9572b16c1c7a5f3",
       "version_major": 2,
       "version_minor": 0
      },
      "text/plain": [
       "train batch iteration:   0%|          | 0/5892 [00:00<?, ?it/s]"
      ]
     },
     "metadata": {},
     "output_type": "display_data"
    },
    {
     "data": {
      "application/vnd.jupyter.widget-view+json": {
       "model_id": "0050e953954d464da01e1475d6e32bef",
       "version_major": 2,
       "version_minor": 0
      },
      "text/plain": [
       "valid batch iteration:   0%|          | 0/655 [00:00<?, ?it/s]"
      ]
     },
     "metadata": {},
     "output_type": "display_data"
    },
    {
     "name": "stdout",
     "output_type": "stream",
     "text": [
      "Epoch 1 끝:  2024년 08월 16일 19시 31분 58초\n",
      "Saving the best model epoch:  1\n",
      "Updated the best model.\n",
      "Epoch: 01 | Time: 34m 44s\n",
      "\tTrain Loss: 5.142 | Train PPL: 171.011\n",
      "\tValidation Loss: 3.919 | Validation PPL: 50.363\n",
      "\n",
      "Epoch 2 시작:  2024년 08월 16일 19시 31분 59초\n"
     ]
    },
    {
     "data": {
      "application/vnd.jupyter.widget-view+json": {
       "model_id": "c2e938ff2edc475e915a009bd5cad011",
       "version_major": 2,
       "version_minor": 0
      },
      "text/plain": [
       "train batch iteration:   0%|          | 0/5892 [00:00<?, ?it/s]"
      ]
     },
     "metadata": {},
     "output_type": "display_data"
    },
    {
     "data": {
      "application/vnd.jupyter.widget-view+json": {
       "model_id": "c086dbd9190745e6951fac1ed63be4d0",
       "version_major": 2,
       "version_minor": 0
      },
      "text/plain": [
       "valid batch iteration:   0%|          | 0/655 [00:00<?, ?it/s]"
      ]
     },
     "metadata": {},
     "output_type": "display_data"
    },
    {
     "name": "stdout",
     "output_type": "stream",
     "text": [
      "Epoch 2 끝:  2024년 08월 16일 20시 07분 28초\n",
      "Saving the best model epoch:  2\n",
      "Updated the best model.\n",
      "Epoch: 02 | Time: 35m 28s\n",
      "\tTrain Loss: 3.594 | Train PPL: 36.364\n",
      "\tValidation Loss: 3.167 | Validation PPL: 23.727\n",
      "\n",
      "Epoch 3 시작:  2024년 08월 16일 20시 07분 29초\n"
     ]
    },
    {
     "data": {
      "application/vnd.jupyter.widget-view+json": {
       "model_id": "023e90af580e49c190aa6b67dd4e7baa",
       "version_major": 2,
       "version_minor": 0
      },
      "text/plain": [
       "train batch iteration:   0%|          | 0/5892 [00:00<?, ?it/s]"
      ]
     },
     "metadata": {},
     "output_type": "display_data"
    },
    {
     "data": {
      "application/vnd.jupyter.widget-view+json": {
       "model_id": "e9dbd45376de4cc185d2615555fbf130",
       "version_major": 2,
       "version_minor": 0
      },
      "text/plain": [
       "valid batch iteration:   0%|          | 0/655 [00:00<?, ?it/s]"
      ]
     },
     "metadata": {},
     "output_type": "display_data"
    },
    {
     "name": "stdout",
     "output_type": "stream",
     "text": [
      "Epoch 3 끝:  2024년 08월 16일 20시 42분 54초\n",
      "Saving the best model epoch:  3\n",
      "Updated the best model.\n",
      "Epoch: 03 | Time: 35m 24s\n",
      "\tTrain Loss: 3.041 | Train PPL: 20.927\n",
      "\tValidation Loss: 2.728 | Validation PPL: 15.296\n",
      "\n",
      "Epoch 4 시작:  2024년 08월 16일 20시 42분 54초\n"
     ]
    },
    {
     "data": {
      "application/vnd.jupyter.widget-view+json": {
       "model_id": "f13ecb1b816b4709a530b55d88f556e8",
       "version_major": 2,
       "version_minor": 0
      },
      "text/plain": [
       "train batch iteration:   0%|          | 0/5892 [00:00<?, ?it/s]"
      ]
     },
     "metadata": {},
     "output_type": "display_data"
    },
    {
     "data": {
      "application/vnd.jupyter.widget-view+json": {
       "model_id": "0415e9b9f94d484ea797d5144d706a6d",
       "version_major": 2,
       "version_minor": 0
      },
      "text/plain": [
       "valid batch iteration:   0%|          | 0/655 [00:00<?, ?it/s]"
      ]
     },
     "metadata": {},
     "output_type": "display_data"
    },
    {
     "name": "stdout",
     "output_type": "stream",
     "text": [
      "Epoch 4 끝:  2024년 08월 16일 21시 18분 10초\n",
      "Saving the best model epoch:  4\n",
      "Updated the best model.\n",
      "Epoch: 04 | Time: 35m 15s\n",
      "\tTrain Loss: 2.688 | Train PPL: 14.707\n",
      "\tValidation Loss: 2.434 | Validation PPL: 11.407\n",
      "\n",
      "Epoch 5 시작:  2024년 08월 16일 21시 18분 10초\n"
     ]
    },
    {
     "data": {
      "application/vnd.jupyter.widget-view+json": {
       "model_id": "7da9b64d84c6472dbda7c24059972311",
       "version_major": 2,
       "version_minor": 0
      },
      "text/plain": [
       "train batch iteration:   0%|          | 0/5892 [00:00<?, ?it/s]"
      ]
     },
     "metadata": {},
     "output_type": "display_data"
    },
    {
     "data": {
      "application/vnd.jupyter.widget-view+json": {
       "model_id": "6bf74c5b159b47e696f062e4024b465b",
       "version_major": 2,
       "version_minor": 0
      },
      "text/plain": [
       "valid batch iteration:   0%|          | 0/655 [00:00<?, ?it/s]"
      ]
     },
     "metadata": {},
     "output_type": "display_data"
    },
    {
     "name": "stdout",
     "output_type": "stream",
     "text": [
      "Epoch 5 끝:  2024년 08월 16일 21시 53분 06초\n",
      "Saving the best model epoch:  5\n",
      "Updated the best model.\n",
      "Epoch: 05 | Time: 34m 55s\n",
      "\tTrain Loss: 2.433 | Train PPL: 11.391\n",
      "\tValidation Loss: 2.214 | Validation PPL: 9.156\n",
      "\n",
      "Epoch 6 시작:  2024년 08월 16일 21시 53분 07초\n"
     ]
    },
    {
     "data": {
      "application/vnd.jupyter.widget-view+json": {
       "model_id": "9adc51007dce4583b66a2e2909610209",
       "version_major": 2,
       "version_minor": 0
      },
      "text/plain": [
       "train batch iteration:   0%|          | 0/5892 [00:00<?, ?it/s]"
      ]
     },
     "metadata": {},
     "output_type": "display_data"
    },
    {
     "data": {
      "application/vnd.jupyter.widget-view+json": {
       "model_id": "2add0dc582404663a4d4419804bb8d79",
       "version_major": 2,
       "version_minor": 0
      },
      "text/plain": [
       "valid batch iteration:   0%|          | 0/655 [00:00<?, ?it/s]"
      ]
     },
     "metadata": {},
     "output_type": "display_data"
    },
    {
     "name": "stdout",
     "output_type": "stream",
     "text": [
      "Epoch 6 끝:  2024년 08월 16일 22시 27분 27초\n",
      "Saving the best model epoch:  6\n",
      "Updated the best model.\n",
      "Epoch: 06 | Time: 34m 20s\n",
      "\tTrain Loss: 2.232 | Train PPL: 9.323\n",
      "\tValidation Loss: 2.036 | Validation PPL: 7.660\n",
      "\n",
      "Epoch 7 시작:  2024년 08월 16일 22시 27분 27초\n"
     ]
    },
    {
     "data": {
      "application/vnd.jupyter.widget-view+json": {
       "model_id": "7987490e931d465aa22f34ea6854ec7c",
       "version_major": 2,
       "version_minor": 0
      },
      "text/plain": [
       "train batch iteration:   0%|          | 0/5892 [00:00<?, ?it/s]"
      ]
     },
     "metadata": {},
     "output_type": "display_data"
    },
    {
     "data": {
      "application/vnd.jupyter.widget-view+json": {
       "model_id": "52ce64b64229436ebce0362bef7c707f",
       "version_major": 2,
       "version_minor": 0
      },
      "text/plain": [
       "valid batch iteration:   0%|          | 0/655 [00:00<?, ?it/s]"
      ]
     },
     "metadata": {},
     "output_type": "display_data"
    },
    {
     "name": "stdout",
     "output_type": "stream",
     "text": [
      "Epoch 7 끝:  2024년 08월 16일 23시 02분 21초\n",
      "Saving the best model epoch:  7\n",
      "Updated the best model.\n",
      "Epoch: 07 | Time: 34m 53s\n",
      "\tTrain Loss: 2.068 | Train PPL: 7.910\n",
      "\tValidation Loss: 1.882 | Validation PPL: 6.569\n",
      "\n",
      "Epoch 8 시작:  2024년 08월 16일 23시 02분 22초\n"
     ]
    },
    {
     "data": {
      "application/vnd.jupyter.widget-view+json": {
       "model_id": "33d099f66b1743999a2c40e779b79071",
       "version_major": 2,
       "version_minor": 0
      },
      "text/plain": [
       "train batch iteration:   0%|          | 0/5892 [00:00<?, ?it/s]"
      ]
     },
     "metadata": {},
     "output_type": "display_data"
    },
    {
     "data": {
      "application/vnd.jupyter.widget-view+json": {
       "model_id": "0a00a7b3a7ca484daea534325bcbe038",
       "version_major": 2,
       "version_minor": 0
      },
      "text/plain": [
       "valid batch iteration:   0%|          | 0/655 [00:00<?, ?it/s]"
      ]
     },
     "metadata": {},
     "output_type": "display_data"
    },
    {
     "name": "stdout",
     "output_type": "stream",
     "text": [
      "Epoch 8 끝:  2024년 08월 16일 23시 37분 18초\n",
      "Saving the best model epoch:  8\n",
      "Updated the best model.\n",
      "Epoch: 08 | Time: 34m 56s\n",
      "\tTrain Loss: 1.929 | Train PPL: 6.882\n",
      "\tValidation Loss: 1.756 | Validation PPL: 5.788\n",
      "\n",
      "Epoch 9 시작:  2024년 08월 16일 23시 37분 19초\n"
     ]
    },
    {
     "data": {
      "application/vnd.jupyter.widget-view+json": {
       "model_id": "3925e23cf510474cb19390a1f6e855a3",
       "version_major": 2,
       "version_minor": 0
      },
      "text/plain": [
       "train batch iteration:   0%|          | 0/5892 [00:00<?, ?it/s]"
      ]
     },
     "metadata": {},
     "output_type": "display_data"
    },
    {
     "data": {
      "application/vnd.jupyter.widget-view+json": {
       "model_id": "83109a7e701e4cc8a01fed06b02d247e",
       "version_major": 2,
       "version_minor": 0
      },
      "text/plain": [
       "valid batch iteration:   0%|          | 0/655 [00:00<?, ?it/s]"
      ]
     },
     "metadata": {},
     "output_type": "display_data"
    },
    {
     "name": "stdout",
     "output_type": "stream",
     "text": [
      "Epoch 9 끝:  2024년 08월 17일 00시 12분 23초\n",
      "Saving the best model epoch:  9\n",
      "Updated the best model.\n",
      "Epoch: 09 | Time: 35m 3s\n",
      "\tTrain Loss: 1.809 | Train PPL: 6.105\n",
      "\tValidation Loss: 1.651 | Validation PPL: 5.212\n",
      "\n",
      "Epoch 10 시작:  2024년 08월 17일 00시 12분 23초\n"
     ]
    },
    {
     "data": {
      "application/vnd.jupyter.widget-view+json": {
       "model_id": "112678f13be5477c9ad37b70ce07e632",
       "version_major": 2,
       "version_minor": 0
      },
      "text/plain": [
       "train batch iteration:   0%|          | 0/5892 [00:00<?, ?it/s]"
      ]
     },
     "metadata": {},
     "output_type": "display_data"
    },
    {
     "data": {
      "application/vnd.jupyter.widget-view+json": {
       "model_id": "e59f77e870f745bb901e1a5f36ba526c",
       "version_major": 2,
       "version_minor": 0
      },
      "text/plain": [
       "valid batch iteration:   0%|          | 0/655 [00:00<?, ?it/s]"
      ]
     },
     "metadata": {},
     "output_type": "display_data"
    },
    {
     "name": "stdout",
     "output_type": "stream",
     "text": [
      "Epoch 10 끝:  2024년 08월 17일 00시 47분 00초\n",
      "Saving the best model epoch:  10\n",
      "Updated the best model.\n",
      "Epoch: 10 | Time: 34m 36s\n",
      "\tTrain Loss: 1.702 | Train PPL: 5.488\n",
      "\tValidation Loss: 1.563 | Validation PPL: 4.775\n"
     ]
    }
   ],
   "source": [
    "%run train.py"
   ]
  },
  {
   "cell_type": "code",
   "execution_count": 1,
   "metadata": {
    "id": "kJY7xhWIagVL"
   },
   "outputs": [
    {
     "name": "stderr",
     "output_type": "stream",
     "text": [
      "C:\\Users\\user\\anaconda3\\Lib\\site-packages\\transformers\\tokenization_utils_base.py:1601: FutureWarning: `clean_up_tokenization_spaces` was not set. It will be set to `True` by default. This behavior will be depracted in transformers v4.45, and will be then set to `False` by default. For more details check this issue: https://github.com/huggingface/transformers/issues/31884\n",
      "  warnings.warn(\n"
     ]
    },
    {
     "name": "stdout",
     "output_type": "stream",
     "text": [
      "데이터 로드 중...\n",
      "데이터 로드 완료\n"
     ]
    },
    {
     "data": {
      "application/vnd.jupyter.widget-view+json": {
       "model_id": "dd27f97ba320469d9b554637e8b943f2",
       "version_major": 2,
       "version_minor": 0
      },
      "text/plain": [
       "Epoch:   0%|          | 0/10 [00:00<?, ?it/s]"
      ]
     },
     "metadata": {},
     "output_type": "display_data"
    },
    {
     "name": "stdout",
     "output_type": "stream",
     "text": [
      "\n",
      "Epoch 1 시작:  2024년 08월 17일 08시 11분 30초\n"
     ]
    },
    {
     "data": {
      "application/vnd.jupyter.widget-view+json": {
       "model_id": "ef7f833e2fe24821a05da794fa42446c",
       "version_major": 2,
       "version_minor": 0
      },
      "text/plain": [
       "train batch iteration:   0%|          | 0/5892 [00:00<?, ?it/s]"
      ]
     },
     "metadata": {},
     "output_type": "display_data"
    },
    {
     "data": {
      "application/vnd.jupyter.widget-view+json": {
       "model_id": "98fc2add51a64436b7eb56539ab94452",
       "version_major": 2,
       "version_minor": 0
      },
      "text/plain": [
       "valid batch iteration:   0%|          | 0/655 [00:00<?, ?it/s]"
      ]
     },
     "metadata": {},
     "output_type": "display_data"
    },
    {
     "name": "stdout",
     "output_type": "stream",
     "text": [
      "Epoch 1 끝:  2024년 08월 17일 08시 45분 54초\n",
      "Saving the best model epoch:  11\n",
      "Updated the best model.\n",
      "Epoch: 01 | Time: 34m 23s\n",
      "\tTrain Loss: 1.624 | Train PPL: 5.072\n",
      "\tValidation Loss: 1.412 | Validation PPL: 4.104\n",
      "\n",
      "Epoch 2 시작:  2024년 08월 17일 08시 45분 54초\n"
     ]
    },
    {
     "data": {
      "application/vnd.jupyter.widget-view+json": {
       "model_id": "c998de74c7f245c1b1f9e5df047a7204",
       "version_major": 2,
       "version_minor": 0
      },
      "text/plain": [
       "train batch iteration:   0%|          | 0/5892 [00:00<?, ?it/s]"
      ]
     },
     "metadata": {},
     "output_type": "display_data"
    },
    {
     "data": {
      "application/vnd.jupyter.widget-view+json": {
       "model_id": "2d162c4b76d247669f189028e2022932",
       "version_major": 2,
       "version_minor": 0
      },
      "text/plain": [
       "valid batch iteration:   0%|          | 0/655 [00:00<?, ?it/s]"
      ]
     },
     "metadata": {},
     "output_type": "display_data"
    },
    {
     "name": "stdout",
     "output_type": "stream",
     "text": [
      "Epoch 2 끝:  2024년 08월 17일 09시 20분 24초\n",
      "Saving the best model epoch:  12\n",
      "Updated the best model.\n",
      "Epoch: 02 | Time: 34m 29s\n",
      "\tTrain Loss: 1.538 | Train PPL: 4.653\n",
      "\tValidation Loss: 1.347 | Validation PPL: 3.846\n",
      "\n",
      "Epoch 3 시작:  2024년 08월 17일 09시 20분 24초\n"
     ]
    },
    {
     "data": {
      "application/vnd.jupyter.widget-view+json": {
       "model_id": "449f5fbe25c94b99acad58fdc91e8b1f",
       "version_major": 2,
       "version_minor": 0
      },
      "text/plain": [
       "train batch iteration:   0%|          | 0/5892 [00:00<?, ?it/s]"
      ]
     },
     "metadata": {},
     "output_type": "display_data"
    },
    {
     "data": {
      "application/vnd.jupyter.widget-view+json": {
       "model_id": "9ba22068139448c0b86989193d6200cf",
       "version_major": 2,
       "version_minor": 0
      },
      "text/plain": [
       "valid batch iteration:   0%|          | 0/655 [00:00<?, ?it/s]"
      ]
     },
     "metadata": {},
     "output_type": "display_data"
    },
    {
     "name": "stdout",
     "output_type": "stream",
     "text": [
      "Epoch 3 끝:  2024년 08월 17일 09시 54분 55초\n",
      "Saving the best model epoch:  13\n",
      "Updated the best model.\n",
      "Epoch: 03 | Time: 34m 30s\n",
      "\tTrain Loss: 1.461 | Train PPL: 4.311\n",
      "\tValidation Loss: 1.286 | Validation PPL: 3.619\n",
      "\n",
      "Epoch 4 시작:  2024년 08월 17일 09시 54분 55초\n"
     ]
    },
    {
     "data": {
      "application/vnd.jupyter.widget-view+json": {
       "model_id": "341b8ab8bcc349289da295945bbee051",
       "version_major": 2,
       "version_minor": 0
      },
      "text/plain": [
       "train batch iteration:   0%|          | 0/5892 [00:00<?, ?it/s]"
      ]
     },
     "metadata": {},
     "output_type": "display_data"
    },
    {
     "data": {
      "application/vnd.jupyter.widget-view+json": {
       "model_id": "0fc80b6e9c3b4b838b708a5dbf76a307",
       "version_major": 2,
       "version_minor": 0
      },
      "text/plain": [
       "valid batch iteration:   0%|          | 0/655 [00:00<?, ?it/s]"
      ]
     },
     "metadata": {},
     "output_type": "display_data"
    },
    {
     "name": "stdout",
     "output_type": "stream",
     "text": [
      "Epoch 4 끝:  2024년 08월 17일 10시 29분 24초\n",
      "Saving the best model epoch:  14\n",
      "Updated the best model.\n",
      "Epoch: 04 | Time: 34m 29s\n",
      "\tTrain Loss: 1.389 | Train PPL: 4.010\n",
      "\tValidation Loss: 1.212 | Validation PPL: 3.361\n",
      "\n",
      "Epoch 5 시작:  2024년 08월 17일 10시 29분 25초\n"
     ]
    },
    {
     "data": {
      "application/vnd.jupyter.widget-view+json": {
       "model_id": "eece46a7afa74b6d9e097aebd6ebb07e",
       "version_major": 2,
       "version_minor": 0
      },
      "text/plain": [
       "train batch iteration:   0%|          | 0/5892 [00:00<?, ?it/s]"
      ]
     },
     "metadata": {},
     "output_type": "display_data"
    },
    {
     "data": {
      "application/vnd.jupyter.widget-view+json": {
       "model_id": "afbafedc972f4a79a502d3bb5755cec5",
       "version_major": 2,
       "version_minor": 0
      },
      "text/plain": [
       "valid batch iteration:   0%|          | 0/655 [00:00<?, ?it/s]"
      ]
     },
     "metadata": {},
     "output_type": "display_data"
    },
    {
     "name": "stdout",
     "output_type": "stream",
     "text": [
      "Epoch 5 끝:  2024년 08월 17일 11시 03분 53초\n",
      "Saving the best model epoch:  15\n",
      "Updated the best model.\n",
      "Epoch: 05 | Time: 34m 28s\n",
      "\tTrain Loss: 1.301 | Train PPL: 3.673\n",
      "\tValidation Loss: 1.139 | Validation PPL: 3.123\n",
      "\n",
      "Epoch 6 시작:  2024년 08월 17일 11시 03분 54초\n"
     ]
    },
    {
     "data": {
      "application/vnd.jupyter.widget-view+json": {
       "model_id": "beb40740974b45aabf4df2725a7506b6",
       "version_major": 2,
       "version_minor": 0
      },
      "text/plain": [
       "train batch iteration:   0%|          | 0/5892 [00:00<?, ?it/s]"
      ]
     },
     "metadata": {},
     "output_type": "display_data"
    },
    {
     "data": {
      "application/vnd.jupyter.widget-view+json": {
       "model_id": "deb05b8986764de9a721d0b5bf3017a2",
       "version_major": 2,
       "version_minor": 0
      },
      "text/plain": [
       "valid batch iteration:   0%|          | 0/655 [00:00<?, ?it/s]"
      ]
     },
     "metadata": {},
     "output_type": "display_data"
    },
    {
     "name": "stdout",
     "output_type": "stream",
     "text": [
      "Epoch 6 끝:  2024년 08월 17일 11시 38분 23초\n",
      "Saving the best model epoch:  16\n",
      "Updated the best model.\n",
      "Epoch: 06 | Time: 34m 29s\n",
      "\tTrain Loss: 1.228 | Train PPL: 3.414\n",
      "\tValidation Loss: 1.086 | Validation PPL: 2.962\n",
      "\n",
      "Epoch 7 시작:  2024년 08월 17일 11시 38분 24초\n"
     ]
    },
    {
     "data": {
      "application/vnd.jupyter.widget-view+json": {
       "model_id": "45273e6600884fdf87dd3368b9c73d41",
       "version_major": 2,
       "version_minor": 0
      },
      "text/plain": [
       "train batch iteration:   0%|          | 0/5892 [00:00<?, ?it/s]"
      ]
     },
     "metadata": {},
     "output_type": "display_data"
    },
    {
     "data": {
      "application/vnd.jupyter.widget-view+json": {
       "model_id": "2bafe5378e6a428a9d0cb012de8ff4c4",
       "version_major": 2,
       "version_minor": 0
      },
      "text/plain": [
       "valid batch iteration:   0%|          | 0/655 [00:00<?, ?it/s]"
      ]
     },
     "metadata": {},
     "output_type": "display_data"
    },
    {
     "name": "stdout",
     "output_type": "stream",
     "text": [
      "Epoch 7 끝:  2024년 08월 17일 12시 12분 53초\n",
      "Saving the best model epoch:  17\n",
      "Updated the best model.\n",
      "Epoch: 07 | Time: 34m 28s\n",
      "\tTrain Loss: 1.166 | Train PPL: 3.209\n",
      "\tValidation Loss: 1.040 | Validation PPL: 2.830\n",
      "\n",
      "Epoch 8 시작:  2024년 08월 17일 12시 12분 53초\n"
     ]
    },
    {
     "data": {
      "application/vnd.jupyter.widget-view+json": {
       "model_id": "4babc79f07424263ab118bfcc3f2f0a7",
       "version_major": 2,
       "version_minor": 0
      },
      "text/plain": [
       "train batch iteration:   0%|          | 0/5892 [00:00<?, ?it/s]"
      ]
     },
     "metadata": {},
     "output_type": "display_data"
    },
    {
     "data": {
      "application/vnd.jupyter.widget-view+json": {
       "model_id": "10c2fe15133742d39585143f8758a5b8",
       "version_major": 2,
       "version_minor": 0
      },
      "text/plain": [
       "valid batch iteration:   0%|          | 0/655 [00:00<?, ?it/s]"
      ]
     },
     "metadata": {},
     "output_type": "display_data"
    },
    {
     "name": "stdout",
     "output_type": "stream",
     "text": [
      "Epoch 8 끝:  2024년 08월 17일 12시 47분 22초\n",
      "Saving the best model epoch:  18\n",
      "Updated the best model.\n",
      "Epoch: 08 | Time: 34m 29s\n",
      "\tTrain Loss: 1.111 | Train PPL: 3.037\n",
      "\tValidation Loss: 1.001 | Validation PPL: 2.722\n",
      "\n",
      "Epoch 9 시작:  2024년 08월 17일 12시 47분 23초\n"
     ]
    },
    {
     "data": {
      "application/vnd.jupyter.widget-view+json": {
       "model_id": "e7e2d1147ab44c86b2cd197684dee950",
       "version_major": 2,
       "version_minor": 0
      },
      "text/plain": [
       "train batch iteration:   0%|          | 0/5892 [00:00<?, ?it/s]"
      ]
     },
     "metadata": {},
     "output_type": "display_data"
    },
    {
     "data": {
      "application/vnd.jupyter.widget-view+json": {
       "model_id": "353a6a7b18784f56a2a12b797a0d1316",
       "version_major": 2,
       "version_minor": 0
      },
      "text/plain": [
       "valid batch iteration:   0%|          | 0/655 [00:00<?, ?it/s]"
      ]
     },
     "metadata": {},
     "output_type": "display_data"
    },
    {
     "name": "stdout",
     "output_type": "stream",
     "text": [
      "Epoch 9 끝:  2024년 08월 17일 13시 21분 53초\n",
      "Saving the best model epoch:  19\n",
      "Updated the best model.\n",
      "Epoch: 09 | Time: 34m 29s\n",
      "\tTrain Loss: 1.057 | Train PPL: 2.878\n",
      "\tValidation Loss: 0.962 | Validation PPL: 2.616\n",
      "\n",
      "Epoch 10 시작:  2024년 08월 17일 13시 21분 53초\n"
     ]
    },
    {
     "data": {
      "application/vnd.jupyter.widget-view+json": {
       "model_id": "1b5ec03e130a41fb936820e3a1380ea7",
       "version_major": 2,
       "version_minor": 0
      },
      "text/plain": [
       "train batch iteration:   0%|          | 0/5892 [00:00<?, ?it/s]"
      ]
     },
     "metadata": {},
     "output_type": "display_data"
    },
    {
     "data": {
      "application/vnd.jupyter.widget-view+json": {
       "model_id": "b27348ff1617431faa9fe94f2e7c7831",
       "version_major": 2,
       "version_minor": 0
      },
      "text/plain": [
       "valid batch iteration:   0%|          | 0/655 [00:00<?, ?it/s]"
      ]
     },
     "metadata": {},
     "output_type": "display_data"
    },
    {
     "name": "stdout",
     "output_type": "stream",
     "text": [
      "Epoch 10 끝:  2024년 08월 17일 13시 56분 19초\n",
      "Saving the best model epoch:  20\n",
      "Updated the best model.\n",
      "Epoch: 10 | Time: 34m 25s\n",
      "\tTrain Loss: 1.008 | Train PPL: 2.740\n",
      "\tValidation Loss: 0.922 | Validation PPL: 2.515\n"
     ]
    }
   ],
   "source": [
    "# 이어서 학습\n",
    "%run train.py --model \"transformers_english_to_french_10.pt\""
   ]
  },
  {
   "cell_type": "code",
   "execution_count": 2,
   "metadata": {},
   "outputs": [
    {
     "name": "stderr",
     "output_type": "stream",
     "text": [
      "C:\\Users\\user\\anaconda3\\Lib\\site-packages\\transformers\\tokenization_utils_base.py:1601: FutureWarning: `clean_up_tokenization_spaces` was not set. It will be set to `True` by default. This behavior will be depracted in transformers v4.45, and will be then set to `False` by default. For more details check this issue: https://github.com/huggingface/transformers/issues/31884\n",
      "  warnings.warn(\n"
     ]
    },
    {
     "name": "stdout",
     "output_type": "stream",
     "text": [
      "데이터 로드 중...\n",
      "데이터 로드 완료\n"
     ]
    },
    {
     "data": {
      "application/vnd.jupyter.widget-view+json": {
       "model_id": "d8792489603d42e1ac90836c5b92d16f",
       "version_major": 2,
       "version_minor": 0
      },
      "text/plain": [
       "Epoch:   0%|          | 0/10 [00:00<?, ?it/s]"
      ]
     },
     "metadata": {},
     "output_type": "display_data"
    },
    {
     "name": "stdout",
     "output_type": "stream",
     "text": [
      "\n",
      "Epoch 1 시작:  2024년 08월 17일 14시 57분 43초\n"
     ]
    },
    {
     "data": {
      "application/vnd.jupyter.widget-view+json": {
       "model_id": "c8408120fb714c1b84f632c5bd84079b",
       "version_major": 2,
       "version_minor": 0
      },
      "text/plain": [
       "train batch iteration:   0%|          | 0/5892 [00:00<?, ?it/s]"
      ]
     },
     "metadata": {},
     "output_type": "display_data"
    },
    {
     "data": {
      "application/vnd.jupyter.widget-view+json": {
       "model_id": "c7ec868f25c44ba99c565532e836cd0b",
       "version_major": 2,
       "version_minor": 0
      },
      "text/plain": [
       "valid batch iteration:   0%|          | 0/655 [00:00<?, ?it/s]"
      ]
     },
     "metadata": {},
     "output_type": "display_data"
    },
    {
     "name": "stdout",
     "output_type": "stream",
     "text": [
      "Epoch 1 끝:  2024년 08월 17일 15시 32분 36초\n",
      "Saving the best model epoch:  21\n",
      "Updated the best model.\n",
      "Epoch: 01 | Time: 34m 52s\n",
      "\tTrain Loss: 0.978 | Train PPL: 2.659\n",
      "\tValidation Loss: 0.796 | Validation PPL: 2.217\n",
      "\n",
      "Epoch 2 시작:  2024년 08월 17일 15시 32분 36초\n"
     ]
    },
    {
     "data": {
      "application/vnd.jupyter.widget-view+json": {
       "model_id": "94ffa942066448a8ac6bad952aa48bcf",
       "version_major": 2,
       "version_minor": 0
      },
      "text/plain": [
       "train batch iteration:   0%|          | 0/5892 [00:00<?, ?it/s]"
      ]
     },
     "metadata": {},
     "output_type": "display_data"
    },
    {
     "data": {
      "application/vnd.jupyter.widget-view+json": {
       "model_id": "0ef4a87aa23d4c3c87f51cadf5f3c727",
       "version_major": 2,
       "version_minor": 0
      },
      "text/plain": [
       "valid batch iteration:   0%|          | 0/655 [00:00<?, ?it/s]"
      ]
     },
     "metadata": {},
     "output_type": "display_data"
    },
    {
     "name": "stdout",
     "output_type": "stream",
     "text": [
      "Epoch 2 끝:  2024년 08월 17일 16시 09분 09초\n",
      "Saving the best model epoch:  22\n",
      "Updated the best model.\n",
      "Epoch: 02 | Time: 36m 32s\n",
      "\tTrain Loss: 0.936 | Train PPL: 2.549\n",
      "\tValidation Loss: 0.781 | Validation PPL: 2.183\n",
      "\n",
      "Epoch 3 시작:  2024년 08월 17일 16시 09분 10초\n"
     ]
    },
    {
     "data": {
      "application/vnd.jupyter.widget-view+json": {
       "model_id": "aa0abb6bc94d4e2a9658afd397c8c852",
       "version_major": 2,
       "version_minor": 0
      },
      "text/plain": [
       "train batch iteration:   0%|          | 0/5892 [00:00<?, ?it/s]"
      ]
     },
     "metadata": {},
     "output_type": "display_data"
    },
    {
     "data": {
      "application/vnd.jupyter.widget-view+json": {
       "model_id": "05e598f79ee749fea776d1560e2864be",
       "version_major": 2,
       "version_minor": 0
      },
      "text/plain": [
       "valid batch iteration:   0%|          | 0/655 [00:00<?, ?it/s]"
      ]
     },
     "metadata": {},
     "output_type": "display_data"
    },
    {
     "name": "stdout",
     "output_type": "stream",
     "text": [
      "Epoch 3 끝:  2024년 08월 17일 16시 45분 32초\n",
      "Saving the best model epoch:  23\n",
      "Updated the best model.\n",
      "Epoch: 03 | Time: 36m 22s\n",
      "\tTrain Loss: 0.896 | Train PPL: 2.451\n",
      "\tValidation Loss: 0.764 | Validation PPL: 2.146\n",
      "\n",
      "Epoch 4 시작:  2024년 08월 17일 16시 45분 33초\n"
     ]
    },
    {
     "data": {
      "application/vnd.jupyter.widget-view+json": {
       "model_id": "ffa3f4ee3a9149c78ba4b4c95452132d",
       "version_major": 2,
       "version_minor": 0
      },
      "text/plain": [
       "train batch iteration:   0%|          | 0/5892 [00:00<?, ?it/s]"
      ]
     },
     "metadata": {},
     "output_type": "display_data"
    },
    {
     "data": {
      "application/vnd.jupyter.widget-view+json": {
       "model_id": "4948bfb095214f0fa89ba8301c4d2558",
       "version_major": 2,
       "version_minor": 0
      },
      "text/plain": [
       "valid batch iteration:   0%|          | 0/655 [00:00<?, ?it/s]"
      ]
     },
     "metadata": {},
     "output_type": "display_data"
    },
    {
     "name": "stdout",
     "output_type": "stream",
     "text": [
      "Epoch 4 끝:  2024년 08월 17일 17시 21분 44초\n",
      "Saving the best model epoch:  24\n",
      "Updated the best model.\n",
      "Epoch: 04 | Time: 36m 11s\n",
      "\tTrain Loss: 0.861 | Train PPL: 2.366\n",
      "\tValidation Loss: 0.747 | Validation PPL: 2.111\n",
      "\n",
      "Epoch 5 시작:  2024년 08월 17일 17시 21분 45초\n"
     ]
    },
    {
     "data": {
      "application/vnd.jupyter.widget-view+json": {
       "model_id": "a632a5048b3e40e48f9e1ffa66078dae",
       "version_major": 2,
       "version_minor": 0
      },
      "text/plain": [
       "train batch iteration:   0%|          | 0/5892 [00:00<?, ?it/s]"
      ]
     },
     "metadata": {},
     "output_type": "display_data"
    },
    {
     "data": {
      "application/vnd.jupyter.widget-view+json": {
       "model_id": "f4f4dbf791124d70af4a6fc53c88af2a",
       "version_major": 2,
       "version_minor": 0
      },
      "text/plain": [
       "valid batch iteration:   0%|          | 0/655 [00:00<?, ?it/s]"
      ]
     },
     "metadata": {},
     "output_type": "display_data"
    },
    {
     "name": "stdout",
     "output_type": "stream",
     "text": [
      "Epoch 5 끝:  2024년 08월 17일 17시 57분 47초\n",
      "Saving the best model epoch:  25\n",
      "Updated the best model.\n",
      "Epoch: 05 | Time: 36m 2s\n",
      "\tTrain Loss: 0.829 | Train PPL: 2.291\n",
      "\tValidation Loss: 0.731 | Validation PPL: 2.078\n",
      "\n",
      "Epoch 6 시작:  2024년 08월 17일 17시 57분 48초\n"
     ]
    },
    {
     "data": {
      "application/vnd.jupyter.widget-view+json": {
       "model_id": "03821b226d374923a8c54c182f69061f",
       "version_major": 2,
       "version_minor": 0
      },
      "text/plain": [
       "train batch iteration:   0%|          | 0/5892 [00:00<?, ?it/s]"
      ]
     },
     "metadata": {},
     "output_type": "display_data"
    },
    {
     "data": {
      "application/vnd.jupyter.widget-view+json": {
       "model_id": "7ccbb9142a024135aff6c7c5cc17d87a",
       "version_major": 2,
       "version_minor": 0
      },
      "text/plain": [
       "valid batch iteration:   0%|          | 0/655 [00:00<?, ?it/s]"
      ]
     },
     "metadata": {},
     "output_type": "display_data"
    },
    {
     "name": "stdout",
     "output_type": "stream",
     "text": [
      "Epoch 6 끝:  2024년 08월 17일 18시 34분 12초\n",
      "Saving the best model epoch:  26\n",
      "Updated the best model.\n",
      "Epoch: 06 | Time: 36m 24s\n",
      "\tTrain Loss: 0.799 | Train PPL: 2.223\n",
      "\tValidation Loss: 0.717 | Validation PPL: 2.048\n",
      "\n",
      "Epoch 7 시작:  2024년 08월 17일 18시 34분 13초\n"
     ]
    },
    {
     "data": {
      "application/vnd.jupyter.widget-view+json": {
       "model_id": "8e8144fe97854d38a045a5314fa724dc",
       "version_major": 2,
       "version_minor": 0
      },
      "text/plain": [
       "train batch iteration:   0%|          | 0/5892 [00:00<?, ?it/s]"
      ]
     },
     "metadata": {},
     "output_type": "display_data"
    },
    {
     "data": {
      "application/vnd.jupyter.widget-view+json": {
       "model_id": "0940341d22db41759d76bcc6693d5c55",
       "version_major": 2,
       "version_minor": 0
      },
      "text/plain": [
       "valid batch iteration:   0%|          | 0/655 [00:00<?, ?it/s]"
      ]
     },
     "metadata": {},
     "output_type": "display_data"
    },
    {
     "name": "stdout",
     "output_type": "stream",
     "text": [
      "Epoch 7 끝:  2024년 08월 17일 19시 10분 42초\n",
      "Saving the best model epoch:  27\n",
      "Updated the best model.\n",
      "Epoch: 07 | Time: 36m 28s\n",
      "\tTrain Loss: 0.771 | Train PPL: 2.162\n",
      "\tValidation Loss: 0.707 | Validation PPL: 2.028\n",
      "\n",
      "Epoch 8 시작:  2024년 08월 17일 19시 10분 43초\n"
     ]
    },
    {
     "data": {
      "application/vnd.jupyter.widget-view+json": {
       "model_id": "281b9132e92b4d589045512ad4ed76f8",
       "version_major": 2,
       "version_minor": 0
      },
      "text/plain": [
       "train batch iteration:   0%|          | 0/5892 [00:00<?, ?it/s]"
      ]
     },
     "metadata": {},
     "output_type": "display_data"
    },
    {
     "data": {
      "application/vnd.jupyter.widget-view+json": {
       "model_id": "c07899a6793345548592ed0cf9b78045",
       "version_major": 2,
       "version_minor": 0
      },
      "text/plain": [
       "valid batch iteration:   0%|          | 0/655 [00:00<?, ?it/s]"
      ]
     },
     "metadata": {},
     "output_type": "display_data"
    },
    {
     "name": "stdout",
     "output_type": "stream",
     "text": [
      "Epoch 8 끝:  2024년 08월 17일 19시 50분 56초\n",
      "Saving the best model epoch:  28\n",
      "Updated the best model.\n",
      "Epoch: 08 | Time: 40m 13s\n",
      "\tTrain Loss: 0.744 | Train PPL: 2.105\n",
      "\tValidation Loss: 0.694 | Validation PPL: 2.002\n",
      "\n",
      "Epoch 9 시작:  2024년 08월 17일 19시 50분 57초\n"
     ]
    },
    {
     "data": {
      "application/vnd.jupyter.widget-view+json": {
       "model_id": "b7344add62294727b2e88aab8eb82efd",
       "version_major": 2,
       "version_minor": 0
      },
      "text/plain": [
       "train batch iteration:   0%|          | 0/5892 [00:00<?, ?it/s]"
      ]
     },
     "metadata": {},
     "output_type": "display_data"
    },
    {
     "data": {
      "application/vnd.jupyter.widget-view+json": {
       "model_id": "f6941a60bd5c402f99988dddd58b2e03",
       "version_major": 2,
       "version_minor": 0
      },
      "text/plain": [
       "valid batch iteration:   0%|          | 0/655 [00:00<?, ?it/s]"
      ]
     },
     "metadata": {},
     "output_type": "display_data"
    },
    {
     "name": "stdout",
     "output_type": "stream",
     "text": [
      "Epoch 9 끝:  2024년 08월 17일 20시 29분 56초\n",
      "Saving the best model epoch:  29\n",
      "Updated the best model.\n",
      "Epoch: 09 | Time: 38m 58s\n",
      "\tTrain Loss: 0.720 | Train PPL: 2.055\n",
      "\tValidation Loss: 0.681 | Validation PPL: 1.977\n",
      "\n",
      "Epoch 10 시작:  2024년 08월 17일 20시 29분 57초\n"
     ]
    },
    {
     "data": {
      "application/vnd.jupyter.widget-view+json": {
       "model_id": "faa0c2eb98704c62ba37638e556754ac",
       "version_major": 2,
       "version_minor": 0
      },
      "text/plain": [
       "train batch iteration:   0%|          | 0/5892 [00:00<?, ?it/s]"
      ]
     },
     "metadata": {},
     "output_type": "display_data"
    },
    {
     "data": {
      "application/vnd.jupyter.widget-view+json": {
       "model_id": "b3dcad50acff448ba11c0bf174acc574",
       "version_major": 2,
       "version_minor": 0
      },
      "text/plain": [
       "valid batch iteration:   0%|          | 0/655 [00:00<?, ?it/s]"
      ]
     },
     "metadata": {},
     "output_type": "display_data"
    },
    {
     "name": "stdout",
     "output_type": "stream",
     "text": [
      "Epoch 10 끝:  2024년 08월 17일 21시 09분 18초\n",
      "Saving the best model epoch:  30\n",
      "Updated the best model.\n",
      "Epoch: 10 | Time: 39m 21s\n",
      "\tTrain Loss: 0.697 | Train PPL: 2.008\n",
      "\tValidation Loss: 0.670 | Validation PPL: 1.954\n"
     ]
    }
   ],
   "source": [
    "# 이어서 학습\n",
    "%run train.py --model \"transformers_english_to_french_20.pt\""
   ]
  },
  {
   "cell_type": "code",
   "execution_count": null,
   "metadata": {},
   "outputs": [],
   "source": []
  }
 ],
 "metadata": {
  "accelerator": "GPU",
  "colab": {
   "gpuType": "A100",
   "machine_shape": "hm",
   "provenance": []
  },
  "kernelspec": {
   "display_name": "Python 3 (ipykernel)",
   "language": "python",
   "name": "python3"
  },
  "language_info": {
   "codemirror_mode": {
    "name": "ipython",
    "version": 3
   },
   "file_extension": ".py",
   "mimetype": "text/x-python",
   "name": "python",
   "nbconvert_exporter": "python",
   "pygments_lexer": "ipython3",
   "version": "3.12.3"
  },
  "widgets": {
   "application/vnd.jupyter.widget-state+json": {
    "084f65a203c84460b332af2da124e41e": {
     "model_module": "@jupyter-widgets/controls",
     "model_module_version": "1.5.0",
     "model_name": "HBoxModel",
     "state": {
      "_dom_classes": [],
      "_model_module": "@jupyter-widgets/controls",
      "_model_module_version": "1.5.0",
      "_model_name": "HBoxModel",
      "_view_count": null,
      "_view_module": "@jupyter-widgets/controls",
      "_view_module_version": "1.5.0",
      "_view_name": "HBoxView",
      "box_style": "",
      "children": [
       "IPY_MODEL_26bcdafbb2aa4ccc93c634b27923a1aa",
       "IPY_MODEL_1d9e7dfd9bf440a5aa7b9f9cfa23cd18",
       "IPY_MODEL_6885a29ff3f749e1bc9108a1bd1f3b21"
      ],
      "layout": "IPY_MODEL_dab5d6f216044db6ba3aee23161db0a0"
     }
    },
    "099174e8ce86427f853804eba9ee8205": {
     "model_module": "@jupyter-widgets/controls",
     "model_module_version": "1.5.0",
     "model_name": "HTMLModel",
     "state": {
      "_dom_classes": [],
      "_model_module": "@jupyter-widgets/controls",
      "_model_module_version": "1.5.0",
      "_model_name": "HTMLModel",
      "_view_count": null,
      "_view_module": "@jupyter-widgets/controls",
      "_view_module_version": "1.5.0",
      "_view_name": "HTMLView",
      "description": "",
      "description_tooltip": null,
      "layout": "IPY_MODEL_b2dc21ead6e548d391a2a85652779726",
      "placeholder": "​",
      "style": "IPY_MODEL_14c7559fdc9d46e6bde2851dd4ff3e46",
      "value": " 0/10 [00:17&lt;?, ?it/s]"
     }
    },
    "113f4675032f44869adcdc3cc925ce1a": {
     "model_module": "@jupyter-widgets/base",
     "model_module_version": "1.2.0",
     "model_name": "LayoutModel",
     "state": {
      "_model_module": "@jupyter-widgets/base",
      "_model_module_version": "1.2.0",
      "_model_name": "LayoutModel",
      "_view_count": null,
      "_view_module": "@jupyter-widgets/base",
      "_view_module_version": "1.2.0",
      "_view_name": "LayoutView",
      "align_content": null,
      "align_items": null,
      "align_self": null,
      "border": null,
      "bottom": null,
      "display": null,
      "flex": null,
      "flex_flow": null,
      "grid_area": null,
      "grid_auto_columns": null,
      "grid_auto_flow": null,
      "grid_auto_rows": null,
      "grid_column": null,
      "grid_gap": null,
      "grid_row": null,
      "grid_template_areas": null,
      "grid_template_columns": null,
      "grid_template_rows": null,
      "height": null,
      "justify_content": null,
      "justify_items": null,
      "left": null,
      "margin": null,
      "max_height": null,
      "max_width": null,
      "min_height": null,
      "min_width": null,
      "object_fit": null,
      "object_position": null,
      "order": null,
      "overflow": null,
      "overflow_x": null,
      "overflow_y": null,
      "padding": null,
      "right": null,
      "top": null,
      "visibility": null,
      "width": null
     }
    },
    "14c7559fdc9d46e6bde2851dd4ff3e46": {
     "model_module": "@jupyter-widgets/controls",
     "model_module_version": "1.5.0",
     "model_name": "DescriptionStyleModel",
     "state": {
      "_model_module": "@jupyter-widgets/controls",
      "_model_module_version": "1.5.0",
      "_model_name": "DescriptionStyleModel",
      "_view_count": null,
      "_view_module": "@jupyter-widgets/base",
      "_view_module_version": "1.2.0",
      "_view_name": "StyleView",
      "description_width": ""
     }
    },
    "1d9e7dfd9bf440a5aa7b9f9cfa23cd18": {
     "model_module": "@jupyter-widgets/controls",
     "model_module_version": "1.5.0",
     "model_name": "FloatProgressModel",
     "state": {
      "_dom_classes": [],
      "_model_module": "@jupyter-widgets/controls",
      "_model_module_version": "1.5.0",
      "_model_name": "FloatProgressModel",
      "_view_count": null,
      "_view_module": "@jupyter-widgets/controls",
      "_view_module_version": "1.5.0",
      "_view_name": "ProgressView",
      "bar_style": "danger",
      "description": "",
      "description_tooltip": null,
      "layout": "IPY_MODEL_3a927329cd7142018418edc921d0f43c",
      "max": 5892,
      "min": 0,
      "orientation": "horizontal",
      "style": "IPY_MODEL_ef2b1ed910cf4758abb45bdd99942de3",
      "value": 120
     }
    },
    "241858a82e1f4373bc72539708e1a2bd": {
     "model_module": "@jupyter-widgets/controls",
     "model_module_version": "1.5.0",
     "model_name": "DescriptionStyleModel",
     "state": {
      "_model_module": "@jupyter-widgets/controls",
      "_model_module_version": "1.5.0",
      "_model_name": "DescriptionStyleModel",
      "_view_count": null,
      "_view_module": "@jupyter-widgets/base",
      "_view_module_version": "1.2.0",
      "_view_name": "StyleView",
      "description_width": ""
     }
    },
    "26bcdafbb2aa4ccc93c634b27923a1aa": {
     "model_module": "@jupyter-widgets/controls",
     "model_module_version": "1.5.0",
     "model_name": "HTMLModel",
     "state": {
      "_dom_classes": [],
      "_model_module": "@jupyter-widgets/controls",
      "_model_module_version": "1.5.0",
      "_model_name": "HTMLModel",
      "_view_count": null,
      "_view_module": "@jupyter-widgets/controls",
      "_view_module_version": "1.5.0",
      "_view_name": "HTMLView",
      "description": "",
      "description_tooltip": null,
      "layout": "IPY_MODEL_4510ade00f214f2d8ee5353d8a15c9c2",
      "placeholder": "​",
      "style": "IPY_MODEL_241858a82e1f4373bc72539708e1a2bd",
      "value": "train batch iteration:   2%"
     }
    },
    "3a927329cd7142018418edc921d0f43c": {
     "model_module": "@jupyter-widgets/base",
     "model_module_version": "1.2.0",
     "model_name": "LayoutModel",
     "state": {
      "_model_module": "@jupyter-widgets/base",
      "_model_module_version": "1.2.0",
      "_model_name": "LayoutModel",
      "_view_count": null,
      "_view_module": "@jupyter-widgets/base",
      "_view_module_version": "1.2.0",
      "_view_name": "LayoutView",
      "align_content": null,
      "align_items": null,
      "align_self": null,
      "border": null,
      "bottom": null,
      "display": null,
      "flex": null,
      "flex_flow": null,
      "grid_area": null,
      "grid_auto_columns": null,
      "grid_auto_flow": null,
      "grid_auto_rows": null,
      "grid_column": null,
      "grid_gap": null,
      "grid_row": null,
      "grid_template_areas": null,
      "grid_template_columns": null,
      "grid_template_rows": null,
      "height": null,
      "justify_content": null,
      "justify_items": null,
      "left": null,
      "margin": null,
      "max_height": null,
      "max_width": null,
      "min_height": null,
      "min_width": null,
      "object_fit": null,
      "object_position": null,
      "order": null,
      "overflow": null,
      "overflow_x": null,
      "overflow_y": null,
      "padding": null,
      "right": null,
      "top": null,
      "visibility": null,
      "width": null
     }
    },
    "420d459a9b5441c6b238780d99355f79": {
     "model_module": "@jupyter-widgets/base",
     "model_module_version": "1.2.0",
     "model_name": "LayoutModel",
     "state": {
      "_model_module": "@jupyter-widgets/base",
      "_model_module_version": "1.2.0",
      "_model_name": "LayoutModel",
      "_view_count": null,
      "_view_module": "@jupyter-widgets/base",
      "_view_module_version": "1.2.0",
      "_view_name": "LayoutView",
      "align_content": null,
      "align_items": null,
      "align_self": null,
      "border": null,
      "bottom": null,
      "display": null,
      "flex": null,
      "flex_flow": null,
      "grid_area": null,
      "grid_auto_columns": null,
      "grid_auto_flow": null,
      "grid_auto_rows": null,
      "grid_column": null,
      "grid_gap": null,
      "grid_row": null,
      "grid_template_areas": null,
      "grid_template_columns": null,
      "grid_template_rows": null,
      "height": null,
      "justify_content": null,
      "justify_items": null,
      "left": null,
      "margin": null,
      "max_height": null,
      "max_width": null,
      "min_height": null,
      "min_width": null,
      "object_fit": null,
      "object_position": null,
      "order": null,
      "overflow": null,
      "overflow_x": null,
      "overflow_y": null,
      "padding": null,
      "right": null,
      "top": null,
      "visibility": null,
      "width": null
     }
    },
    "4510ade00f214f2d8ee5353d8a15c9c2": {
     "model_module": "@jupyter-widgets/base",
     "model_module_version": "1.2.0",
     "model_name": "LayoutModel",
     "state": {
      "_model_module": "@jupyter-widgets/base",
      "_model_module_version": "1.2.0",
      "_model_name": "LayoutModel",
      "_view_count": null,
      "_view_module": "@jupyter-widgets/base",
      "_view_module_version": "1.2.0",
      "_view_name": "LayoutView",
      "align_content": null,
      "align_items": null,
      "align_self": null,
      "border": null,
      "bottom": null,
      "display": null,
      "flex": null,
      "flex_flow": null,
      "grid_area": null,
      "grid_auto_columns": null,
      "grid_auto_flow": null,
      "grid_auto_rows": null,
      "grid_column": null,
      "grid_gap": null,
      "grid_row": null,
      "grid_template_areas": null,
      "grid_template_columns": null,
      "grid_template_rows": null,
      "height": null,
      "justify_content": null,
      "justify_items": null,
      "left": null,
      "margin": null,
      "max_height": null,
      "max_width": null,
      "min_height": null,
      "min_width": null,
      "object_fit": null,
      "object_position": null,
      "order": null,
      "overflow": null,
      "overflow_x": null,
      "overflow_y": null,
      "padding": null,
      "right": null,
      "top": null,
      "visibility": null,
      "width": null
     }
    },
    "4d11be8a335c4285bd0ce60ffaf9579f": {
     "model_module": "@jupyter-widgets/controls",
     "model_module_version": "1.5.0",
     "model_name": "HBoxModel",
     "state": {
      "_dom_classes": [],
      "_model_module": "@jupyter-widgets/controls",
      "_model_module_version": "1.5.0",
      "_model_name": "HBoxModel",
      "_view_count": null,
      "_view_module": "@jupyter-widgets/controls",
      "_view_module_version": "1.5.0",
      "_view_name": "HBoxView",
      "box_style": "",
      "children": [
       "IPY_MODEL_eb31da2bcdc94808813801f2d5cd0c6a",
       "IPY_MODEL_6cf2729039464d51bd844d5573df712c",
       "IPY_MODEL_099174e8ce86427f853804eba9ee8205"
      ],
      "layout": "IPY_MODEL_ee1f94f4a1484ee8909910e33a00293d"
     }
    },
    "6885a29ff3f749e1bc9108a1bd1f3b21": {
     "model_module": "@jupyter-widgets/controls",
     "model_module_version": "1.5.0",
     "model_name": "HTMLModel",
     "state": {
      "_dom_classes": [],
      "_model_module": "@jupyter-widgets/controls",
      "_model_module_version": "1.5.0",
      "_model_name": "HTMLModel",
      "_view_count": null,
      "_view_module": "@jupyter-widgets/controls",
      "_view_module_version": "1.5.0",
      "_view_name": "HTMLView",
      "description": "",
      "description_tooltip": null,
      "layout": "IPY_MODEL_113f4675032f44869adcdc3cc925ce1a",
      "placeholder": "​",
      "style": "IPY_MODEL_b386ab06e67141cbbe4fceafc7f4a0c6",
      "value": " 120/5892 [00:17&lt;12:43,  7.56it/s]"
     }
    },
    "6cf2729039464d51bd844d5573df712c": {
     "model_module": "@jupyter-widgets/controls",
     "model_module_version": "1.5.0",
     "model_name": "FloatProgressModel",
     "state": {
      "_dom_classes": [],
      "_model_module": "@jupyter-widgets/controls",
      "_model_module_version": "1.5.0",
      "_model_name": "FloatProgressModel",
      "_view_count": null,
      "_view_module": "@jupyter-widgets/controls",
      "_view_module_version": "1.5.0",
      "_view_name": "ProgressView",
      "bar_style": "danger",
      "description": "",
      "description_tooltip": null,
      "layout": "IPY_MODEL_420d459a9b5441c6b238780d99355f79",
      "max": 10,
      "min": 0,
      "orientation": "horizontal",
      "style": "IPY_MODEL_c4a9c1ead8104ba0ac0d18d6be0a2900",
      "value": 0
     }
    },
    "84232f1d7ef940daacb01db9dd898732": {
     "model_module": "@jupyter-widgets/controls",
     "model_module_version": "1.5.0",
     "model_name": "DescriptionStyleModel",
     "state": {
      "_model_module": "@jupyter-widgets/controls",
      "_model_module_version": "1.5.0",
      "_model_name": "DescriptionStyleModel",
      "_view_count": null,
      "_view_module": "@jupyter-widgets/base",
      "_view_module_version": "1.2.0",
      "_view_name": "StyleView",
      "description_width": ""
     }
    },
    "b2dc21ead6e548d391a2a85652779726": {
     "model_module": "@jupyter-widgets/base",
     "model_module_version": "1.2.0",
     "model_name": "LayoutModel",
     "state": {
      "_model_module": "@jupyter-widgets/base",
      "_model_module_version": "1.2.0",
      "_model_name": "LayoutModel",
      "_view_count": null,
      "_view_module": "@jupyter-widgets/base",
      "_view_module_version": "1.2.0",
      "_view_name": "LayoutView",
      "align_content": null,
      "align_items": null,
      "align_self": null,
      "border": null,
      "bottom": null,
      "display": null,
      "flex": null,
      "flex_flow": null,
      "grid_area": null,
      "grid_auto_columns": null,
      "grid_auto_flow": null,
      "grid_auto_rows": null,
      "grid_column": null,
      "grid_gap": null,
      "grid_row": null,
      "grid_template_areas": null,
      "grid_template_columns": null,
      "grid_template_rows": null,
      "height": null,
      "justify_content": null,
      "justify_items": null,
      "left": null,
      "margin": null,
      "max_height": null,
      "max_width": null,
      "min_height": null,
      "min_width": null,
      "object_fit": null,
      "object_position": null,
      "order": null,
      "overflow": null,
      "overflow_x": null,
      "overflow_y": null,
      "padding": null,
      "right": null,
      "top": null,
      "visibility": null,
      "width": null
     }
    },
    "b386ab06e67141cbbe4fceafc7f4a0c6": {
     "model_module": "@jupyter-widgets/controls",
     "model_module_version": "1.5.0",
     "model_name": "DescriptionStyleModel",
     "state": {
      "_model_module": "@jupyter-widgets/controls",
      "_model_module_version": "1.5.0",
      "_model_name": "DescriptionStyleModel",
      "_view_count": null,
      "_view_module": "@jupyter-widgets/base",
      "_view_module_version": "1.2.0",
      "_view_name": "StyleView",
      "description_width": ""
     }
    },
    "c4a9c1ead8104ba0ac0d18d6be0a2900": {
     "model_module": "@jupyter-widgets/controls",
     "model_module_version": "1.5.0",
     "model_name": "ProgressStyleModel",
     "state": {
      "_model_module": "@jupyter-widgets/controls",
      "_model_module_version": "1.5.0",
      "_model_name": "ProgressStyleModel",
      "_view_count": null,
      "_view_module": "@jupyter-widgets/base",
      "_view_module_version": "1.2.0",
      "_view_name": "StyleView",
      "bar_color": null,
      "description_width": ""
     }
    },
    "dab5d6f216044db6ba3aee23161db0a0": {
     "model_module": "@jupyter-widgets/base",
     "model_module_version": "1.2.0",
     "model_name": "LayoutModel",
     "state": {
      "_model_module": "@jupyter-widgets/base",
      "_model_module_version": "1.2.0",
      "_model_name": "LayoutModel",
      "_view_count": null,
      "_view_module": "@jupyter-widgets/base",
      "_view_module_version": "1.2.0",
      "_view_name": "LayoutView",
      "align_content": null,
      "align_items": null,
      "align_self": null,
      "border": null,
      "bottom": null,
      "display": null,
      "flex": null,
      "flex_flow": null,
      "grid_area": null,
      "grid_auto_columns": null,
      "grid_auto_flow": null,
      "grid_auto_rows": null,
      "grid_column": null,
      "grid_gap": null,
      "grid_row": null,
      "grid_template_areas": null,
      "grid_template_columns": null,
      "grid_template_rows": null,
      "height": null,
      "justify_content": null,
      "justify_items": null,
      "left": null,
      "margin": null,
      "max_height": null,
      "max_width": null,
      "min_height": null,
      "min_width": null,
      "object_fit": null,
      "object_position": null,
      "order": null,
      "overflow": null,
      "overflow_x": null,
      "overflow_y": null,
      "padding": null,
      "right": null,
      "top": null,
      "visibility": null,
      "width": null
     }
    },
    "e5ca293724f54a0581e0a5d49dcfabee": {
     "model_module": "@jupyter-widgets/base",
     "model_module_version": "1.2.0",
     "model_name": "LayoutModel",
     "state": {
      "_model_module": "@jupyter-widgets/base",
      "_model_module_version": "1.2.0",
      "_model_name": "LayoutModel",
      "_view_count": null,
      "_view_module": "@jupyter-widgets/base",
      "_view_module_version": "1.2.0",
      "_view_name": "LayoutView",
      "align_content": null,
      "align_items": null,
      "align_self": null,
      "border": null,
      "bottom": null,
      "display": null,
      "flex": null,
      "flex_flow": null,
      "grid_area": null,
      "grid_auto_columns": null,
      "grid_auto_flow": null,
      "grid_auto_rows": null,
      "grid_column": null,
      "grid_gap": null,
      "grid_row": null,
      "grid_template_areas": null,
      "grid_template_columns": null,
      "grid_template_rows": null,
      "height": null,
      "justify_content": null,
      "justify_items": null,
      "left": null,
      "margin": null,
      "max_height": null,
      "max_width": null,
      "min_height": null,
      "min_width": null,
      "object_fit": null,
      "object_position": null,
      "order": null,
      "overflow": null,
      "overflow_x": null,
      "overflow_y": null,
      "padding": null,
      "right": null,
      "top": null,
      "visibility": null,
      "width": null
     }
    },
    "eb31da2bcdc94808813801f2d5cd0c6a": {
     "model_module": "@jupyter-widgets/controls",
     "model_module_version": "1.5.0",
     "model_name": "HTMLModel",
     "state": {
      "_dom_classes": [],
      "_model_module": "@jupyter-widgets/controls",
      "_model_module_version": "1.5.0",
      "_model_name": "HTMLModel",
      "_view_count": null,
      "_view_module": "@jupyter-widgets/controls",
      "_view_module_version": "1.5.0",
      "_view_name": "HTMLView",
      "description": "",
      "description_tooltip": null,
      "layout": "IPY_MODEL_e5ca293724f54a0581e0a5d49dcfabee",
      "placeholder": "​",
      "style": "IPY_MODEL_84232f1d7ef940daacb01db9dd898732",
      "value": "Epoch:   0%"
     }
    },
    "ee1f94f4a1484ee8909910e33a00293d": {
     "model_module": "@jupyter-widgets/base",
     "model_module_version": "1.2.0",
     "model_name": "LayoutModel",
     "state": {
      "_model_module": "@jupyter-widgets/base",
      "_model_module_version": "1.2.0",
      "_model_name": "LayoutModel",
      "_view_count": null,
      "_view_module": "@jupyter-widgets/base",
      "_view_module_version": "1.2.0",
      "_view_name": "LayoutView",
      "align_content": null,
      "align_items": null,
      "align_self": null,
      "border": null,
      "bottom": null,
      "display": null,
      "flex": null,
      "flex_flow": null,
      "grid_area": null,
      "grid_auto_columns": null,
      "grid_auto_flow": null,
      "grid_auto_rows": null,
      "grid_column": null,
      "grid_gap": null,
      "grid_row": null,
      "grid_template_areas": null,
      "grid_template_columns": null,
      "grid_template_rows": null,
      "height": null,
      "justify_content": null,
      "justify_items": null,
      "left": null,
      "margin": null,
      "max_height": null,
      "max_width": null,
      "min_height": null,
      "min_width": null,
      "object_fit": null,
      "object_position": null,
      "order": null,
      "overflow": null,
      "overflow_x": null,
      "overflow_y": null,
      "padding": null,
      "right": null,
      "top": null,
      "visibility": null,
      "width": null
     }
    },
    "ef2b1ed910cf4758abb45bdd99942de3": {
     "model_module": "@jupyter-widgets/controls",
     "model_module_version": "1.5.0",
     "model_name": "ProgressStyleModel",
     "state": {
      "_model_module": "@jupyter-widgets/controls",
      "_model_module_version": "1.5.0",
      "_model_name": "ProgressStyleModel",
      "_view_count": null,
      "_view_module": "@jupyter-widgets/base",
      "_view_module_version": "1.2.0",
      "_view_name": "StyleView",
      "bar_color": null,
      "description_width": ""
     }
    }
   }
  }
 },
 "nbformat": 4,
 "nbformat_minor": 4
}
